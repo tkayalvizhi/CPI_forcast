{
 "cells": [
  {
   "cell_type": "code",
   "execution_count": 2,
   "id": "4c767716",
   "metadata": {
    "ExecuteTime": {
     "end_time": "2022-08-10T06:25:01.350113Z",
     "start_time": "2022-08-10T06:25:01.216982Z"
    }
   },
   "outputs": [],
   "source": [
    "import pandas as pd\n",
    "import numpy as np\n",
    "import matplotlib.pyplot as plt\n",
    "\n",
    "from sklearn.linear_model import LinearRegression\n",
    "from sklearn.model_selection import train_test_split\n",
    "from sklearn.metrics import mean_squared_error, mean_absolute_percentage_error\n",
    "\n",
    "plot_style = {\n",
    "    # For latex-quality, i.e., publication quality legends and labels on graphs.\n",
    "    \"text.usetex\": True,  # <----------------- you must have installed LaTeX on your system. Else set it to False\n",
    "    \n",
    "    # configure fonts\n",
    "    \"font.size\":12,             # default font size\n",
    "    \"font.family\":'serif',\n",
    "    \"legend.fontsize\": 10,\n",
    "    \"axes.labelsize\": 12,\n",
    "    \"axes.titlesize\":14,\n",
    "    \"xtick.labelsize\" : 10,\n",
    "    \"ytick.labelsize\" : 10,\n",
    "    \n",
    "    # configure figure\n",
    "    \"figure.dpi\": 144,\n",
    "    \"figure.figsize\":'10,5',\n",
    "    \"figure.titlesize\":14\n",
    "}\n",
    "\n",
    "from statsmodels.graphics.tsaplots import plot_acf, plot_pacf\n",
    "from statsmodels.tsa.stattools import ccf, ccovf\n",
    "from statsmodels.tsa.ar_model import AutoReg\n",
    "from statsmodels.tsa.statespace.sarimax import SARIMAX\n",
    "\n",
    "plt.style.use ('ggplot')                      # emulate ggplot style\n",
    "plt.rcParams.update(plot_style)\n",
    "\n",
    "import warnings\n",
    "warnings.filterwarnings('ignore')"
   ]
  }
 ],
 "metadata": {
  "kernelspec": {
   "display_name": "Python 3 (ipykernel)",
   "language": "python",
   "name": "python3"
  },
  "language_info": {
   "codemirror_mode": {
    "name": "ipython",
    "version": 3
   },
   "file_extension": ".py",
   "mimetype": "text/x-python",
   "name": "python",
   "nbconvert_exporter": "python",
   "pygments_lexer": "ipython3",
   "version": "3.8.13"
  },
  "toc": {
   "base_numbering": 1,
   "nav_menu": {},
   "number_sections": true,
   "sideBar": true,
   "skip_h1_title": false,
   "title_cell": "Table of Contents",
   "title_sidebar": "Contents",
   "toc_cell": false,
   "toc_position": {},
   "toc_section_display": true,
   "toc_window_display": false
  }
 },
 "nbformat": 4,
 "nbformat_minor": 5
}
